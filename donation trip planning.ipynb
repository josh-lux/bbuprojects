{
 "cells": [
  {
   "cell_type": "code",
   "execution_count": 2,
   "id": "dressed-declaration",
   "metadata": {},
   "outputs": [
    {
     "name": "stdout",
     "output_type": "stream",
     "text": [
      "Enter quantity of units to be donated: 20\n",
      "Enter production cost of one unit: 1\n",
      "Enter fair market value of one unit: 5\n",
      "Enter added distance due to donation: 5\n",
      "The extra distance costs  4.1499999999999995  and the deduction is  2 , so this trip is not financially favorable.\n"
     ]
    }
   ],
   "source": [
    "truededuct=0;\n",
    "milecost=0.83;\n",
    "qty= int(input(\"Enter quantity of units to be donated: \"));\n",
    "basis= int(input(\"Enter production cost of one unit: \"));\n",
    "marketval= int(input(\"Enter fair market value of one unit: \"));\n",
    "dist = int(input(\"Enter added distance in miles due to donation: \"));\n",
    "deduct1=basis*2;\n",
    "deduct2=basis+(marketval-basis)/2;\n",
    "travelcost=milecost*dist;\n",
    "if deduct1 <= deduct2:\n",
    "    truededuct=deduct1;\n",
    "else:\n",
    "    truededuct=deduct2;\n",
    "if travelcost>truededuct:\n",
    "    print(\"The extra distance costs \",travelcost,\" and the deduction is \",truededuct,\", so this trip is not financially favorable.\")\n",
    "elif travelcost<truededuct:\n",
    "    print(\"The extra distance costs \",travelcost,\" and the deduction is \",truededuct,\", so this trip is financially favorable.\")\n",
    "else:\n",
    "    print(\"We will break even on this trip\")"
   ]
  },
  {
   "cell_type": "code",
   "execution_count": null,
   "id": "solid-ratio",
   "metadata": {},
   "outputs": [],
   "source": []
  }
 ],
 "metadata": {
  "kernelspec": {
   "display_name": "Python 3",
   "language": "python",
   "name": "python3"
  },
  "language_info": {
   "codemirror_mode": {
    "name": "ipython",
    "version": 3
   },
   "file_extension": ".py",
   "mimetype": "text/x-python",
   "name": "python",
   "nbconvert_exporter": "python",
   "pygments_lexer": "ipython3",
   "version": "3.8.5"
  }
 },
 "nbformat": 4,
 "nbformat_minor": 5
}
